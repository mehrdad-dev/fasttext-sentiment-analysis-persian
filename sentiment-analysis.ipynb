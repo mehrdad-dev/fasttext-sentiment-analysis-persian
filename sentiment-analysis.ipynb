{
  "cells": [
    {
      "cell_type": "markdown",
      "metadata": {
        "id": "RtM9ZLpAGOsb"
      },
      "source": [
        "Setup:\n",
        "*   Google Colab\n",
        "*   FastText\n",
        "\n"
      ]
    },
    {
      "cell_type": "markdown",
      "metadata": {
        "id": "1vwJxvLyIoDk"
      },
      "source": [
        "# Install packages"
      ]
    },
    {
      "cell_type": "code",
      "execution_count": 1,
      "metadata": {
        "colab": {
          "base_uri": "https://localhost:8080/"
        },
        "id": "337S-u_KrQ-Z",
        "outputId": "16d33fb9-3741-496a-af73-8e0146f9fd55"
      },
      "outputs": [
        {
          "name": "stdout",
          "output_type": "stream",
          "text": [
            "--2023-07-08 14:28:50--  https://github.com/facebookresearch/fastText/archive/v0.9.2.zip\n",
            "Resolving github.com (github.com)... 140.82.113.3\n",
            "Connecting to github.com (github.com)|140.82.113.3|:443... connected.\n",
            "HTTP request sent, awaiting response... 302 Found\n",
            "Location: https://codeload.github.com/facebookresearch/fastText/zip/refs/tags/v0.9.2 [following]\n",
            "--2023-07-08 14:28:50--  https://codeload.github.com/facebookresearch/fastText/zip/refs/tags/v0.9.2\n",
            "Resolving codeload.github.com (codeload.github.com)... 140.82.112.10\n",
            "Connecting to codeload.github.com (codeload.github.com)|140.82.112.10|:443... connected.\n",
            "HTTP request sent, awaiting response... 200 OK\n",
            "Length: unspecified [application/zip]\n",
            "Saving to: ‘v0.9.2.zip’\n",
            "\n",
            "v0.9.2.zip              [  <=>               ]   4.17M  11.5MB/s    in 0.4s    \n",
            "\n",
            "2023-07-08 14:28:51 (11.5 MB/s) - ‘v0.9.2.zip’ saved [4369852]\n",
            "\n",
            "/content/fastText-0.9.2\n"
          ]
        }
      ],
      "source": [
        "! wget https://github.com/facebookresearch/fastText/archive/v0.9.2.zip  > /dev/null\n",
        "! unzip v0.9.2.zip > /dev/null\n",
        "%cd fastText-0.9.2\n",
        "! make > /dev/null\n",
        "! pip install . > /dev/null"
      ]
    },
    {
      "cell_type": "code",
      "execution_count": 2,
      "metadata": {
        "colab": {
          "base_uri": "https://localhost:8080/"
        },
        "id": "oBb2Y4AYgrtB",
        "outputId": "e550b18f-9b11-4887-db84-d6d55d8fff0c"
      },
      "outputs": [
        {
          "name": "stdout",
          "output_type": "stream",
          "text": [
            "/content\n"
          ]
        }
      ],
      "source": [
        "%cd .."
      ]
    },
    {
      "cell_type": "code",
      "execution_count": 3,
      "metadata": {
        "id": "HBb88TBhn62C"
      },
      "outputs": [],
      "source": [
        "import fasttext\n",
        "import pandas as pd\n",
        "import numpy as np\n",
        "from tqdm import tqdm\n",
        "import pandas as pd"
      ]
    },
    {
      "cell_type": "markdown",
      "metadata": {
        "id": "DE-Y0OR9kDY2"
      },
      "source": [
        "# Prepare dataset for training"
      ]
    },
    {
      "cell_type": "code",
      "execution_count": 8,
      "metadata": {
        "colab": {
          "base_uri": "https://localhost:8080/",
          "height": 424
        },
        "id": "M4j--NkuK32p",
        "outputId": "12d5e45b-2264-4b9e-f05f-a8113a397ccb"
      },
      "outputs": [
        {
          "data": {
            "text/html": [
              "\n",
              "  <div id=\"df-9c8bb193-bcfd-457a-b68c-b0f38b34c70a\">\n",
              "    <div class=\"colab-df-container\">\n",
              "      <div>\n",
              "<style scoped>\n",
              "    .dataframe tbody tr th:only-of-type {\n",
              "        vertical-align: middle;\n",
              "    }\n",
              "\n",
              "    .dataframe tbody tr th {\n",
              "        vertical-align: top;\n",
              "    }\n",
              "\n",
              "    .dataframe thead th {\n",
              "        text-align: right;\n",
              "    }\n",
              "</style>\n",
              "<table border=\"1\" class=\"dataframe\">\n",
              "  <thead>\n",
              "    <tr style=\"text-align: right;\">\n",
              "      <th></th>\n",
              "      <th>comment</th>\n",
              "      <th>sentiment</th>\n",
              "    </tr>\n",
              "  </thead>\n",
              "  <tbody>\n",
              "    <tr>\n",
              "      <th>0</th>\n",
              "      <td>کس میدونه چه جوری از این ها میشه شکایت کرد لطف...</td>\n",
              "      <td>Negative</td>\n",
              "    </tr>\n",
              "    <tr>\n",
              "      <th>1</th>\n",
              "      <td>اف بر شهرداری که درخت را وسط میدان انداخته. طر...</td>\n",
              "      <td>Negative</td>\n",
              "    </tr>\n",
              "    <tr>\n",
              "      <th>2</th>\n",
              "      <td>خیلی جای بکری هس حتما یه سر برید👌</td>\n",
              "      <td>Positive</td>\n",
              "    </tr>\n",
              "    <tr>\n",
              "      <th>3</th>\n",
              "      <td>آب بسیار کثیف است، متراژ هم کم</td>\n",
              "      <td>Negative</td>\n",
              "    </tr>\n",
              "    <tr>\n",
              "      <th>4</th>\n",
              "      <td>افتضاح چون یه شماره تماس نداره خیرسرش</td>\n",
              "      <td>Negative</td>\n",
              "    </tr>\n",
              "    <tr>\n",
              "      <th>...</th>\n",
              "      <td>...</td>\n",
              "      <td>...</td>\n",
              "    </tr>\n",
              "    <tr>\n",
              "      <th>2538</th>\n",
              "      <td>اصلا کیفیت نداره از سر مجبوری اومدیم اتاق کثیف...</td>\n",
              "      <td>Negative</td>\n",
              "    </tr>\n",
              "    <tr>\n",
              "      <th>2539</th>\n",
              "      <td>بسیار عالی بدون سردرد</td>\n",
              "      <td>Positive</td>\n",
              "    </tr>\n",
              "    <tr>\n",
              "      <th>2540</th>\n",
              "      <td>برای زیارت و استراحتی کوتاه خوبه در ضمن کتاب ف...</td>\n",
              "      <td>Positive</td>\n",
              "    </tr>\n",
              "    <tr>\n",
              "      <th>2541</th>\n",
              "      <td>جای خوبی نیست .یه دونه کافی شاپ امیر شکلات بود...</td>\n",
              "      <td>Negative</td>\n",
              "    </tr>\n",
              "    <tr>\n",
              "      <th>2542</th>\n",
              "      <td>خیلی عالی مخصوصا دوغای سه لیتری غلیظش، ضمنا بس...</td>\n",
              "      <td>Positive</td>\n",
              "    </tr>\n",
              "  </tbody>\n",
              "</table>\n",
              "<p>2543 rows × 2 columns</p>\n",
              "</div>\n",
              "      <button class=\"colab-df-convert\" onclick=\"convertToInteractive('df-9c8bb193-bcfd-457a-b68c-b0f38b34c70a')\"\n",
              "              title=\"Convert this dataframe to an interactive table.\"\n",
              "              style=\"display:none;\">\n",
              "        \n",
              "  <svg xmlns=\"http://www.w3.org/2000/svg\" height=\"24px\"viewBox=\"0 0 24 24\"\n",
              "       width=\"24px\">\n",
              "    <path d=\"M0 0h24v24H0V0z\" fill=\"none\"/>\n",
              "    <path d=\"M18.56 5.44l.94 2.06.94-2.06 2.06-.94-2.06-.94-.94-2.06-.94 2.06-2.06.94zm-11 1L8.5 8.5l.94-2.06 2.06-.94-2.06-.94L8.5 2.5l-.94 2.06-2.06.94zm10 10l.94 2.06.94-2.06 2.06-.94-2.06-.94-.94-2.06-.94 2.06-2.06.94z\"/><path d=\"M17.41 7.96l-1.37-1.37c-.4-.4-.92-.59-1.43-.59-.52 0-1.04.2-1.43.59L10.3 9.45l-7.72 7.72c-.78.78-.78 2.05 0 2.83L4 21.41c.39.39.9.59 1.41.59.51 0 1.02-.2 1.41-.59l7.78-7.78 2.81-2.81c.8-.78.8-2.07 0-2.86zM5.41 20L4 18.59l7.72-7.72 1.47 1.35L5.41 20z\"/>\n",
              "  </svg>\n",
              "      </button>\n",
              "      \n",
              "  <style>\n",
              "    .colab-df-container {\n",
              "      display:flex;\n",
              "      flex-wrap:wrap;\n",
              "      gap: 12px;\n",
              "    }\n",
              "\n",
              "    .colab-df-convert {\n",
              "      background-color: #E8F0FE;\n",
              "      border: none;\n",
              "      border-radius: 50%;\n",
              "      cursor: pointer;\n",
              "      display: none;\n",
              "      fill: #1967D2;\n",
              "      height: 32px;\n",
              "      padding: 0 0 0 0;\n",
              "      width: 32px;\n",
              "    }\n",
              "\n",
              "    .colab-df-convert:hover {\n",
              "      background-color: #E2EBFA;\n",
              "      box-shadow: 0px 1px 2px rgba(60, 64, 67, 0.3), 0px 1px 3px 1px rgba(60, 64, 67, 0.15);\n",
              "      fill: #174EA6;\n",
              "    }\n",
              "\n",
              "    [theme=dark] .colab-df-convert {\n",
              "      background-color: #3B4455;\n",
              "      fill: #D2E3FC;\n",
              "    }\n",
              "\n",
              "    [theme=dark] .colab-df-convert:hover {\n",
              "      background-color: #434B5C;\n",
              "      box-shadow: 0px 1px 3px 1px rgba(0, 0, 0, 0.15);\n",
              "      filter: drop-shadow(0px 1px 2px rgba(0, 0, 0, 0.3));\n",
              "      fill: #FFFFFF;\n",
              "    }\n",
              "  </style>\n",
              "\n",
              "      <script>\n",
              "        const buttonEl =\n",
              "          document.querySelector('#df-9c8bb193-bcfd-457a-b68c-b0f38b34c70a button.colab-df-convert');\n",
              "        buttonEl.style.display =\n",
              "          google.colab.kernel.accessAllowed ? 'block' : 'none';\n",
              "\n",
              "        async function convertToInteractive(key) {\n",
              "          const element = document.querySelector('#df-9c8bb193-bcfd-457a-b68c-b0f38b34c70a');\n",
              "          const dataTable =\n",
              "            await google.colab.kernel.invokeFunction('convertToInteractive',\n",
              "                                                     [key], {});\n",
              "          if (!dataTable) return;\n",
              "\n",
              "          const docLinkHtml = 'Like what you see? Visit the ' +\n",
              "            '<a target=\"_blank\" href=https://colab.research.google.com/notebooks/data_table.ipynb>data table notebook</a>'\n",
              "            + ' to learn more about interactive tables.';\n",
              "          element.innerHTML = '';\n",
              "          dataTable['output_type'] = 'display_data';\n",
              "          await google.colab.output.renderOutput(dataTable, element);\n",
              "          const docLink = document.createElement('div');\n",
              "          docLink.innerHTML = docLinkHtml;\n",
              "          element.appendChild(docLink);\n",
              "        }\n",
              "      </script>\n",
              "    </div>\n",
              "  </div>\n",
              "  "
            ],
            "text/plain": [
              "                                                comment sentiment\n",
              "0     کس میدونه چه جوری از این ها میشه شکایت کرد لطف...  Negative\n",
              "1     اف بر شهرداری که درخت را وسط میدان انداخته. طر...  Negative\n",
              "2                     خیلی جای بکری هس حتما یه سر برید👌  Positive\n",
              "3                        آب بسیار کثیف است، متراژ هم کم  Negative\n",
              "4                 افتضاح چون یه شماره تماس نداره خیرسرش  Negative\n",
              "...                                                 ...       ...\n",
              "2538  اصلا کیفیت نداره از سر مجبوری اومدیم اتاق کثیف...  Negative\n",
              "2539                              بسیار عالی بدون سردرد  Positive\n",
              "2540  برای زیارت و استراحتی کوتاه خوبه در ضمن کتاب ف...  Positive\n",
              "2541  جای خوبی نیست .یه دونه کافی شاپ امیر شکلات بود...  Negative\n",
              "2542  خیلی عالی مخصوصا دوغای سه لیتری غلیظش، ضمنا بس...  Positive\n",
              "\n",
              "[2543 rows x 2 columns]"
            ]
          },
          "execution_count": 8,
          "metadata": {},
          "output_type": "execute_result"
        }
      ],
      "source": [
        "train_dataset = pd.read_csv('train.csv')\n",
        "train_dataset"
      ]
    },
    {
      "cell_type": "code",
      "execution_count": 9,
      "metadata": {
        "colab": {
          "base_uri": "https://localhost:8080/"
        },
        "id": "F6042MRYGgGF",
        "outputId": "b194fa0c-1ff5-4f38-ac43-ef2c43139a4f"
      },
      "outputs": [
        {
          "name": "stdout",
          "output_type": "stream",
          "text": [
            "<class 'pandas.core.frame.DataFrame'>\n",
            "RangeIndex: 2543 entries, 0 to 2542\n",
            "Data columns (total 2 columns):\n",
            " #   Column     Non-Null Count  Dtype \n",
            "---  ------     --------------  ----- \n",
            " 0   comment    2543 non-null   object\n",
            " 1   sentiment  2543 non-null   object\n",
            "dtypes: object(2)\n",
            "memory usage: 39.9+ KB\n"
          ]
        }
      ],
      "source": [
        "train_dataset.info()"
      ]
    },
    {
      "cell_type": "code",
      "execution_count": 10,
      "metadata": {
        "colab": {
          "base_uri": "https://localhost:8080/",
          "height": 175
        },
        "id": "Sn0yM-xtTw9p",
        "outputId": "06cb8d21-0035-4e40-a75a-0fc48e8566a3"
      },
      "outputs": [
        {
          "data": {
            "text/html": [
              "\n",
              "  <div id=\"df-4673ac02-6212-4f3a-8dde-d8d3a72ff269\">\n",
              "    <div class=\"colab-df-container\">\n",
              "      <div>\n",
              "<style scoped>\n",
              "    .dataframe tbody tr th:only-of-type {\n",
              "        vertical-align: middle;\n",
              "    }\n",
              "\n",
              "    .dataframe tbody tr th {\n",
              "        vertical-align: top;\n",
              "    }\n",
              "\n",
              "    .dataframe thead th {\n",
              "        text-align: right;\n",
              "    }\n",
              "</style>\n",
              "<table border=\"1\" class=\"dataframe\">\n",
              "  <thead>\n",
              "    <tr style=\"text-align: right;\">\n",
              "      <th></th>\n",
              "      <th>comment</th>\n",
              "      <th>sentiment</th>\n",
              "    </tr>\n",
              "  </thead>\n",
              "  <tbody>\n",
              "    <tr>\n",
              "      <th>count</th>\n",
              "      <td>2543</td>\n",
              "      <td>2543</td>\n",
              "    </tr>\n",
              "    <tr>\n",
              "      <th>unique</th>\n",
              "      <td>2543</td>\n",
              "      <td>3</td>\n",
              "    </tr>\n",
              "    <tr>\n",
              "      <th>top</th>\n",
              "      <td>کس میدونه چه جوری از این ها میشه شکایت کرد لطف...</td>\n",
              "      <td>Negative</td>\n",
              "    </tr>\n",
              "    <tr>\n",
              "      <th>freq</th>\n",
              "      <td>1</td>\n",
              "      <td>1159</td>\n",
              "    </tr>\n",
              "  </tbody>\n",
              "</table>\n",
              "</div>\n",
              "      <button class=\"colab-df-convert\" onclick=\"convertToInteractive('df-4673ac02-6212-4f3a-8dde-d8d3a72ff269')\"\n",
              "              title=\"Convert this dataframe to an interactive table.\"\n",
              "              style=\"display:none;\">\n",
              "        \n",
              "  <svg xmlns=\"http://www.w3.org/2000/svg\" height=\"24px\"viewBox=\"0 0 24 24\"\n",
              "       width=\"24px\">\n",
              "    <path d=\"M0 0h24v24H0V0z\" fill=\"none\"/>\n",
              "    <path d=\"M18.56 5.44l.94 2.06.94-2.06 2.06-.94-2.06-.94-.94-2.06-.94 2.06-2.06.94zm-11 1L8.5 8.5l.94-2.06 2.06-.94-2.06-.94L8.5 2.5l-.94 2.06-2.06.94zm10 10l.94 2.06.94-2.06 2.06-.94-2.06-.94-.94-2.06-.94 2.06-2.06.94z\"/><path d=\"M17.41 7.96l-1.37-1.37c-.4-.4-.92-.59-1.43-.59-.52 0-1.04.2-1.43.59L10.3 9.45l-7.72 7.72c-.78.78-.78 2.05 0 2.83L4 21.41c.39.39.9.59 1.41.59.51 0 1.02-.2 1.41-.59l7.78-7.78 2.81-2.81c.8-.78.8-2.07 0-2.86zM5.41 20L4 18.59l7.72-7.72 1.47 1.35L5.41 20z\"/>\n",
              "  </svg>\n",
              "      </button>\n",
              "      \n",
              "  <style>\n",
              "    .colab-df-container {\n",
              "      display:flex;\n",
              "      flex-wrap:wrap;\n",
              "      gap: 12px;\n",
              "    }\n",
              "\n",
              "    .colab-df-convert {\n",
              "      background-color: #E8F0FE;\n",
              "      border: none;\n",
              "      border-radius: 50%;\n",
              "      cursor: pointer;\n",
              "      display: none;\n",
              "      fill: #1967D2;\n",
              "      height: 32px;\n",
              "      padding: 0 0 0 0;\n",
              "      width: 32px;\n",
              "    }\n",
              "\n",
              "    .colab-df-convert:hover {\n",
              "      background-color: #E2EBFA;\n",
              "      box-shadow: 0px 1px 2px rgba(60, 64, 67, 0.3), 0px 1px 3px 1px rgba(60, 64, 67, 0.15);\n",
              "      fill: #174EA6;\n",
              "    }\n",
              "\n",
              "    [theme=dark] .colab-df-convert {\n",
              "      background-color: #3B4455;\n",
              "      fill: #D2E3FC;\n",
              "    }\n",
              "\n",
              "    [theme=dark] .colab-df-convert:hover {\n",
              "      background-color: #434B5C;\n",
              "      box-shadow: 0px 1px 3px 1px rgba(0, 0, 0, 0.15);\n",
              "      filter: drop-shadow(0px 1px 2px rgba(0, 0, 0, 0.3));\n",
              "      fill: #FFFFFF;\n",
              "    }\n",
              "  </style>\n",
              "\n",
              "      <script>\n",
              "        const buttonEl =\n",
              "          document.querySelector('#df-4673ac02-6212-4f3a-8dde-d8d3a72ff269 button.colab-df-convert');\n",
              "        buttonEl.style.display =\n",
              "          google.colab.kernel.accessAllowed ? 'block' : 'none';\n",
              "\n",
              "        async function convertToInteractive(key) {\n",
              "          const element = document.querySelector('#df-4673ac02-6212-4f3a-8dde-d8d3a72ff269');\n",
              "          const dataTable =\n",
              "            await google.colab.kernel.invokeFunction('convertToInteractive',\n",
              "                                                     [key], {});\n",
              "          if (!dataTable) return;\n",
              "\n",
              "          const docLinkHtml = 'Like what you see? Visit the ' +\n",
              "            '<a target=\"_blank\" href=https://colab.research.google.com/notebooks/data_table.ipynb>data table notebook</a>'\n",
              "            + ' to learn more about interactive tables.';\n",
              "          element.innerHTML = '';\n",
              "          dataTable['output_type'] = 'display_data';\n",
              "          await google.colab.output.renderOutput(dataTable, element);\n",
              "          const docLink = document.createElement('div');\n",
              "          docLink.innerHTML = docLinkHtml;\n",
              "          element.appendChild(docLink);\n",
              "        }\n",
              "      </script>\n",
              "    </div>\n",
              "  </div>\n",
              "  "
            ],
            "text/plain": [
              "                                                  comment sentiment\n",
              "count                                                2543      2543\n",
              "unique                                               2543         3\n",
              "top     کس میدونه چه جوری از این ها میشه شکایت کرد لطف...  Negative\n",
              "freq                                                    1      1159"
            ]
          },
          "execution_count": 10,
          "metadata": {},
          "output_type": "execute_result"
        }
      ],
      "source": [
        "train_dataset.describe()"
      ]
    },
    {
      "cell_type": "code",
      "execution_count": 16,
      "metadata": {
        "colab": {
          "base_uri": "https://localhost:8080/"
        },
        "id": "eLxL9AHdiV43",
        "outputId": "fb903abd-21de-4e98-8f23-919ae16efd4c"
      },
      "outputs": [
        {
          "name": "stdout",
          "output_type": "stream",
          "text": [
            "1159\n",
            "938\n",
            "446\n"
          ]
        }
      ],
      "source": [
        "# check number of samples per category\n",
        "print(list(train_dataset['sentiment'] == 'Negative').count(True))\n",
        "print(list(train_dataset['sentiment'] == 'Positive').count(True))\n",
        "print(list(train_dataset['sentiment'] == 'Neutral').count(True))"
      ]
    },
    {
      "cell_type": "code",
      "execution_count": 17,
      "metadata": {
        "colab": {
          "base_uri": "https://localhost:8080/"
        },
        "id": "UT9IbH5nU8m3",
        "outputId": "6e6b8113-f4ac-456c-d72d-cf3c9cb1ab23"
      },
      "outputs": [
        {
          "name": "stdout",
          "output_type": "stream",
          "text": [
            "0\n",
            "0\n"
          ]
        }
      ],
      "source": [
        "# final check to find out if there is any null value in dataset\n",
        "print(train_dataset['comment'].isnull().sum())\n",
        "print(train_dataset['comment'].isna().sum())"
      ]
    },
    {
      "cell_type": "code",
      "execution_count": 18,
      "metadata": {
        "colab": {
          "base_uri": "https://localhost:8080/"
        },
        "id": "hIjcjym5vY-8",
        "outputId": "c89e1d94-bf34-4edc-c250-a89cb5022884"
      },
      "outputs": [
        {
          "data": {
            "text/plain": [
              "['Negative', 'Positive', 'Neutral']"
            ]
          },
          "execution_count": 18,
          "metadata": {},
          "output_type": "execute_result"
        }
      ],
      "source": [
        "categories = train_dataset['sentiment'].unique().tolist()\n",
        "categories"
      ]
    },
    {
      "cell_type": "code",
      "execution_count": 19,
      "metadata": {
        "id": "0kwP3cI_e8Vk"
      },
      "outputs": [],
      "source": [
        "train_dataset['sentiment_fasttext'] = None"
      ]
    },
    {
      "cell_type": "code",
      "execution_count": 174,
      "metadata": {
        "colab": {
          "base_uri": "https://localhost:8080/"
        },
        "id": "Jr1fGZ8DDW9S",
        "outputId": "36c18fab-7007-4664-d4be-02d2c5deccf1"
      },
      "outputs": [
        {
          "name": "stderr",
          "output_type": "stream",
          "text": [
            "2543it [00:00, 9486.11it/s]\n"
          ]
        }
      ],
      "source": [
        "def pre_process(dataset):\n",
        "    # just a simple pre-processing to make sure\n",
        "    for index, p in tqdm(enumerate(dataset['comment'])):\n",
        "        new_comment = p.replace('\\n', ' ')\n",
        "        new_comment = new_comment.strip()\n",
        "        dataset['comment'][index] = new_comment\n",
        "\n",
        "    return dataset\n",
        "\n",
        "train_dataset = pre_process(train_dataset)"
      ]
    },
    {
      "cell_type": "code",
      "execution_count": 157,
      "metadata": {
        "colab": {
          "base_uri": "https://localhost:8080/"
        },
        "id": "fZPNWHRhLdRK",
        "outputId": "9e17b6b7-5a94-4456-b85b-907b86cf7570"
      },
      "outputs": [
        {
          "name": "stderr",
          "output_type": "stream",
          "text": [
            "2543it [00:00, 8858.68it/s]\n"
          ]
        }
      ],
      "source": [
        "# add \"__label__\" to each of comments, because fasttext need it for its training process\n",
        "for index, p in tqdm(enumerate(train_dataset['comment'])):\n",
        "  cat = train_dataset['sentiment'][index]\n",
        "  label = '__label__'+ str(cat)\n",
        "  new_sentiment = label + \" \" + str(p)\n",
        "  train_dataset['sentiment_fasttext'][index] = new_sentiment"
      ]
    },
    {
      "cell_type": "code",
      "execution_count": 158,
      "metadata": {
        "colab": {
          "base_uri": "https://localhost:8080/",
          "height": 424
        },
        "id": "97zXx5rwse0f",
        "outputId": "e9eeec92-d7e2-48d6-c0bb-c15fea739f51"
      },
      "outputs": [
        {
          "data": {
            "text/html": [
              "\n",
              "  <div id=\"df-0f762c5b-4e8d-4876-b7fc-9be917f170c7\">\n",
              "    <div class=\"colab-df-container\">\n",
              "      <div>\n",
              "<style scoped>\n",
              "    .dataframe tbody tr th:only-of-type {\n",
              "        vertical-align: middle;\n",
              "    }\n",
              "\n",
              "    .dataframe tbody tr th {\n",
              "        vertical-align: top;\n",
              "    }\n",
              "\n",
              "    .dataframe thead th {\n",
              "        text-align: right;\n",
              "    }\n",
              "</style>\n",
              "<table border=\"1\" class=\"dataframe\">\n",
              "  <thead>\n",
              "    <tr style=\"text-align: right;\">\n",
              "      <th></th>\n",
              "      <th>comment</th>\n",
              "      <th>sentiment</th>\n",
              "      <th>sentiment_fasttext</th>\n",
              "    </tr>\n",
              "  </thead>\n",
              "  <tbody>\n",
              "    <tr>\n",
              "      <th>0</th>\n",
              "      <td>کس میدونه چه جوری از این ها میشه شکایت کرد لطف...</td>\n",
              "      <td>Negative</td>\n",
              "      <td>__label__Negative کس میدونه چه جوری از این ها ...</td>\n",
              "    </tr>\n",
              "    <tr>\n",
              "      <th>1</th>\n",
              "      <td>اف بر شهرداری که درخت را وسط میدان انداخته. طر...</td>\n",
              "      <td>Negative</td>\n",
              "      <td>__label__Negative اف بر شهرداری که درخت را وسط...</td>\n",
              "    </tr>\n",
              "    <tr>\n",
              "      <th>2</th>\n",
              "      <td>خیلی جای بکری هس حتما یه سر برید👌</td>\n",
              "      <td>Positive</td>\n",
              "      <td>__label__Positive خیلی جای بکری هس حتما یه سر ...</td>\n",
              "    </tr>\n",
              "    <tr>\n",
              "      <th>3</th>\n",
              "      <td>آب بسیار کثیف است، متراژ هم کم</td>\n",
              "      <td>Negative</td>\n",
              "      <td>__label__Negative آب بسیار کثیف است، متراژ هم کم</td>\n",
              "    </tr>\n",
              "    <tr>\n",
              "      <th>4</th>\n",
              "      <td>افتضاح چون یه شماره تماس نداره خیرسرش</td>\n",
              "      <td>Negative</td>\n",
              "      <td>__label__Negative افتضاح چون یه شماره تماس ندا...</td>\n",
              "    </tr>\n",
              "    <tr>\n",
              "      <th>...</th>\n",
              "      <td>...</td>\n",
              "      <td>...</td>\n",
              "      <td>...</td>\n",
              "    </tr>\n",
              "    <tr>\n",
              "      <th>2538</th>\n",
              "      <td>اصلا کیفیت نداره از سر مجبوری اومدیم اتاق کثیف...</td>\n",
              "      <td>Negative</td>\n",
              "      <td>__label__Negative اصلا کیفیت نداره از سر مجبور...</td>\n",
              "    </tr>\n",
              "    <tr>\n",
              "      <th>2539</th>\n",
              "      <td>بسیار عالی بدون سردرد</td>\n",
              "      <td>Positive</td>\n",
              "      <td>__label__Positive بسیار عالی بدون سردرد</td>\n",
              "    </tr>\n",
              "    <tr>\n",
              "      <th>2540</th>\n",
              "      <td>برای زیارت و استراحتی کوتاه خوبه در ضمن کتاب ف...</td>\n",
              "      <td>Positive</td>\n",
              "      <td>__label__Positive برای زیارت و استراحتی کوتاه ...</td>\n",
              "    </tr>\n",
              "    <tr>\n",
              "      <th>2541</th>\n",
              "      <td>جای خوبی نیست .یه دونه کافی شاپ امیر شکلات بود...</td>\n",
              "      <td>Negative</td>\n",
              "      <td>__label__Negative جای خوبی نیست .یه دونه کافی ...</td>\n",
              "    </tr>\n",
              "    <tr>\n",
              "      <th>2542</th>\n",
              "      <td>خیلی عالی مخصوصا دوغای سه لیتری غلیظش، ضمنا بس...</td>\n",
              "      <td>Positive</td>\n",
              "      <td>__label__Positive خیلی عالی مخصوصا دوغای سه لی...</td>\n",
              "    </tr>\n",
              "  </tbody>\n",
              "</table>\n",
              "<p>2543 rows × 3 columns</p>\n",
              "</div>\n",
              "      <button class=\"colab-df-convert\" onclick=\"convertToInteractive('df-0f762c5b-4e8d-4876-b7fc-9be917f170c7')\"\n",
              "              title=\"Convert this dataframe to an interactive table.\"\n",
              "              style=\"display:none;\">\n",
              "        \n",
              "  <svg xmlns=\"http://www.w3.org/2000/svg\" height=\"24px\"viewBox=\"0 0 24 24\"\n",
              "       width=\"24px\">\n",
              "    <path d=\"M0 0h24v24H0V0z\" fill=\"none\"/>\n",
              "    <path d=\"M18.56 5.44l.94 2.06.94-2.06 2.06-.94-2.06-.94-.94-2.06-.94 2.06-2.06.94zm-11 1L8.5 8.5l.94-2.06 2.06-.94-2.06-.94L8.5 2.5l-.94 2.06-2.06.94zm10 10l.94 2.06.94-2.06 2.06-.94-2.06-.94-.94-2.06-.94 2.06-2.06.94z\"/><path d=\"M17.41 7.96l-1.37-1.37c-.4-.4-.92-.59-1.43-.59-.52 0-1.04.2-1.43.59L10.3 9.45l-7.72 7.72c-.78.78-.78 2.05 0 2.83L4 21.41c.39.39.9.59 1.41.59.51 0 1.02-.2 1.41-.59l7.78-7.78 2.81-2.81c.8-.78.8-2.07 0-2.86zM5.41 20L4 18.59l7.72-7.72 1.47 1.35L5.41 20z\"/>\n",
              "  </svg>\n",
              "      </button>\n",
              "      \n",
              "  <style>\n",
              "    .colab-df-container {\n",
              "      display:flex;\n",
              "      flex-wrap:wrap;\n",
              "      gap: 12px;\n",
              "    }\n",
              "\n",
              "    .colab-df-convert {\n",
              "      background-color: #E8F0FE;\n",
              "      border: none;\n",
              "      border-radius: 50%;\n",
              "      cursor: pointer;\n",
              "      display: none;\n",
              "      fill: #1967D2;\n",
              "      height: 32px;\n",
              "      padding: 0 0 0 0;\n",
              "      width: 32px;\n",
              "    }\n",
              "\n",
              "    .colab-df-convert:hover {\n",
              "      background-color: #E2EBFA;\n",
              "      box-shadow: 0px 1px 2px rgba(60, 64, 67, 0.3), 0px 1px 3px 1px rgba(60, 64, 67, 0.15);\n",
              "      fill: #174EA6;\n",
              "    }\n",
              "\n",
              "    [theme=dark] .colab-df-convert {\n",
              "      background-color: #3B4455;\n",
              "      fill: #D2E3FC;\n",
              "    }\n",
              "\n",
              "    [theme=dark] .colab-df-convert:hover {\n",
              "      background-color: #434B5C;\n",
              "      box-shadow: 0px 1px 3px 1px rgba(0, 0, 0, 0.15);\n",
              "      filter: drop-shadow(0px 1px 2px rgba(0, 0, 0, 0.3));\n",
              "      fill: #FFFFFF;\n",
              "    }\n",
              "  </style>\n",
              "\n",
              "      <script>\n",
              "        const buttonEl =\n",
              "          document.querySelector('#df-0f762c5b-4e8d-4876-b7fc-9be917f170c7 button.colab-df-convert');\n",
              "        buttonEl.style.display =\n",
              "          google.colab.kernel.accessAllowed ? 'block' : 'none';\n",
              "\n",
              "        async function convertToInteractive(key) {\n",
              "          const element = document.querySelector('#df-0f762c5b-4e8d-4876-b7fc-9be917f170c7');\n",
              "          const dataTable =\n",
              "            await google.colab.kernel.invokeFunction('convertToInteractive',\n",
              "                                                     [key], {});\n",
              "          if (!dataTable) return;\n",
              "\n",
              "          const docLinkHtml = 'Like what you see? Visit the ' +\n",
              "            '<a target=\"_blank\" href=https://colab.research.google.com/notebooks/data_table.ipynb>data table notebook</a>'\n",
              "            + ' to learn more about interactive tables.';\n",
              "          element.innerHTML = '';\n",
              "          dataTable['output_type'] = 'display_data';\n",
              "          await google.colab.output.renderOutput(dataTable, element);\n",
              "          const docLink = document.createElement('div');\n",
              "          docLink.innerHTML = docLinkHtml;\n",
              "          element.appendChild(docLink);\n",
              "        }\n",
              "      </script>\n",
              "    </div>\n",
              "  </div>\n",
              "  "
            ],
            "text/plain": [
              "                                                comment sentiment  \\\n",
              "0     کس میدونه چه جوری از این ها میشه شکایت کرد لطف...  Negative   \n",
              "1     اف بر شهرداری که درخت را وسط میدان انداخته. طر...  Negative   \n",
              "2                     خیلی جای بکری هس حتما یه سر برید👌  Positive   \n",
              "3                        آب بسیار کثیف است، متراژ هم کم  Negative   \n",
              "4                 افتضاح چون یه شماره تماس نداره خیرسرش  Negative   \n",
              "...                                                 ...       ...   \n",
              "2538  اصلا کیفیت نداره از سر مجبوری اومدیم اتاق کثیف...  Negative   \n",
              "2539                              بسیار عالی بدون سردرد  Positive   \n",
              "2540  برای زیارت و استراحتی کوتاه خوبه در ضمن کتاب ف...  Positive   \n",
              "2541  جای خوبی نیست .یه دونه کافی شاپ امیر شکلات بود...  Negative   \n",
              "2542  خیلی عالی مخصوصا دوغای سه لیتری غلیظش، ضمنا بس...  Positive   \n",
              "\n",
              "                                     sentiment_fasttext  \n",
              "0     __label__Negative کس میدونه چه جوری از این ها ...  \n",
              "1     __label__Negative اف بر شهرداری که درخت را وسط...  \n",
              "2     __label__Positive خیلی جای بکری هس حتما یه سر ...  \n",
              "3      __label__Negative آب بسیار کثیف است، متراژ هم کم  \n",
              "4     __label__Negative افتضاح چون یه شماره تماس ندا...  \n",
              "...                                                 ...  \n",
              "2538  __label__Negative اصلا کیفیت نداره از سر مجبور...  \n",
              "2539            __label__Positive بسیار عالی بدون سردرد  \n",
              "2540  __label__Positive برای زیارت و استراحتی کوتاه ...  \n",
              "2541  __label__Negative جای خوبی نیست .یه دونه کافی ...  \n",
              "2542  __label__Positive خیلی عالی مخصوصا دوغای سه لی...  \n",
              "\n",
              "[2543 rows x 3 columns]"
            ]
          },
          "execution_count": 158,
          "metadata": {},
          "output_type": "execute_result"
        }
      ],
      "source": [
        "# check if everything is ok!\n",
        "train_dataset"
      ]
    },
    {
      "cell_type": "code",
      "execution_count": 159,
      "metadata": {
        "colab": {
          "base_uri": "https://localhost:8080/"
        },
        "id": "PvWdN81BqhTu",
        "outputId": "67ef856b-6e15-4595-d397-d0cf480b1f80"
      },
      "outputs": [
        {
          "data": {
            "text/plain": [
              "['__label__Positive',\n",
              " 'داروخانه',\n",
              " 'شبانه',\n",
              " 'روزی،در',\n",
              " 'موقعیت',\n",
              " 'مکانی',\n",
              " 'و',\n",
              " 'مسیری',\n",
              " 'که',\n",
              " 'همیشه',\n",
              " 'در',\n",
              " 'دسترس',\n",
              " 'میباشد']"
            ]
          },
          "execution_count": 159,
          "metadata": {},
          "output_type": "execute_result"
        }
      ],
      "source": [
        "# check if everything is ok!\n",
        "fasttext.tokenize(train_dataset['sentiment_fasttext'][24])"
      ]
    },
    {
      "cell_type": "code",
      "execution_count": 160,
      "metadata": {
        "id": "lWbrXsKtKQL-"
      },
      "outputs": [],
      "source": [
        "# split the train.csv to two set: train, test\n",
        "# the reason behind this is that we do not have actual labels in the provided test.csv\n",
        "# so, we have to create our own test set based on the train.csv\n",
        "\n",
        "from sklearn.model_selection import train_test_split\n",
        "X_train, X_test = train_test_split(train_dataset, test_size=0.2, random_state=1, shuffle=True)"
      ]
    },
    {
      "cell_type": "code",
      "execution_count": 161,
      "metadata": {
        "colab": {
          "base_uri": "https://localhost:8080/"
        },
        "id": "Yw3Eg3o8LR0o",
        "outputId": "25485a44-7b0b-4709-edbb-7e0f30e36ef8"
      },
      "outputs": [
        {
          "name": "stdout",
          "output_type": "stream",
          "text": [
            "2034\n",
            "509\n"
          ]
        }
      ],
      "source": [
        "print(len(X_train))\n",
        "print(len(X_test))"
      ]
    },
    {
      "cell_type": "code",
      "execution_count": 162,
      "metadata": {
        "id": "bCYa_mDbgLfo"
      },
      "outputs": [],
      "source": [
        "# export this coloumn as .txt file, because fasttext library need it!\n",
        "import csv\n",
        "X_train['sentiment_fasttext'].to_csv('train.txt',\n",
        "                                       sep=' ',\n",
        "                                       index=False,\n",
        "                                       header=False,\n",
        "                                       quoting = csv.QUOTE_NONE,\n",
        "                                       quotechar = \"\",\n",
        "                                       escapechar = \" \")\n",
        "\n",
        "X_test['sentiment_fasttext'].to_csv('test.txt',\n",
        "                                       sep=' ',\n",
        "                                       index=False,\n",
        "                                       header=False,\n",
        "                                       quoting = csv.QUOTE_NONE,\n",
        "                                       quotechar = \"\",\n",
        "                                       escapechar = \" \")"
      ]
    },
    {
      "cell_type": "code",
      "execution_count": 163,
      "metadata": {
        "colab": {
          "base_uri": "https://localhost:8080/"
        },
        "id": "CTf9na_9NpWY",
        "outputId": "20811c38-6438-4ab8-ae94-cf9628622220"
      },
      "outputs": [
        {
          "name": "stdout",
          "output_type": "stream",
          "text": [
            "__label__Positive  بد  نیست\n",
            "__label__Negative  یک  کیف  خریدیم.  حلقه  بندش  ضعیف  بود  و  دائم  در  می  اومد.  پرسنل  از  همون  اول  رفتار  مناسبی  نداشتن  و  مشتری  مداری  بلد  نیستن.  برای  تعمیر  هم  کلی  منت  گذاشتن  دست  آخر  هم  درست  نشد.  خلاصه  مواظب  باشید  گول  ظاهر  رو  نخورید\n",
            "__label__Positive  کاردرست  .  با  وجدان  کاری.دمه  شما  گرم\n",
            "__label__Negative  داغون  شلوغ  و  کثیف.  بهداشت  صفر  پاتوق  ارازل  و  اوباش\n",
            "__label__Negative  سف  فلافلی  قدیمی  فردیس  هست  که  کیفیت  غذاهاش  قبلا  عالی  بوده  ولی  در  حال  حاظر  غذاهاش  کیفیت  چندانی  نداره\n",
            "__label__Neutral  برای  بازدید  پزشک  معتمد  از  ساعت  ۸صبح  الی  ۱۲ظهر  میباشد  غیر  از  روز  های  تعطیل.\n",
            "__label__Negative  سرویس  بهداشتی  با  اینکه  پولی  بود،  ولی  نظافت  لازم  نداشت.\n",
            "__label__Positive  بهترین  بیمارستان  مجرب  ترین  کادر  پزشکی\n",
            "__label__Positive  اینجا  هم  تنوع  داره  هم  کیفیت  ولی  بیشترین  چیزی  که  به  چشمم  اومد  طرز  برخورد  کردنشون  بود  خیلی  خوبن  اینا\n",
            "__label__Positive  عالی  کارشون  و  منصف  هستن\n"
          ]
        }
      ],
      "source": [
        "! head /content/train.txt"
      ]
    },
    {
      "cell_type": "markdown",
      "metadata": {
        "id": "WJoshAS36utB"
      },
      "source": [
        "# Train!"
      ]
    },
    {
      "cell_type": "code",
      "execution_count": 164,
      "metadata": {
        "colab": {
          "base_uri": "https://localhost:8080/"
        },
        "id": "RXCxTr1kL3Tq",
        "outputId": "75269507-f0b4-4134-f5df-74b7e3d8fee5"
      },
      "outputs": [
        {
          "data": {
            "text/plain": [
              "(509, 0.8408644400785854, 0.8408644400785854)"
            ]
          },
          "execution_count": 164,
          "metadata": {},
          "output_type": "execute_result"
        }
      ],
      "source": [
        "# these hyperparameters are selected based on experiment\n",
        "\n",
        "model = fasttext.train_supervised('train.txt',\n",
        "                                  wordNgrams=3,\n",
        "                                  lr=0.6,\n",
        "                                #   lrUpdateRate=10,\n",
        "                                  epoch=100,\n",
        "                                  loss='ns',\n",
        "                                  seed=123,\n",
        "                                  label='__label__')\n",
        "\n",
        "model.test('test.txt')"
      ]
    },
    {
      "cell_type": "code",
      "execution_count": 165,
      "metadata": {
        "id": "T-U11qstZa_l"
      },
      "outputs": [],
      "source": [
        "model.save_model('neshan_camp_model.bin')"
      ]
    },
    {
      "cell_type": "code",
      "execution_count": 166,
      "metadata": {
        "colab": {
          "base_uri": "https://localhost:8080/"
        },
        "id": "sVu79VlS5MWJ",
        "outputId": "a5c126b2-3e42-42c4-bce5-971f2a788cfe"
      },
      "outputs": [
        {
          "name": "stderr",
          "output_type": "stream",
          "text": [
            "Warning : `load_model` does not return WordVectorModel or SupervisedModel any more, but a `FastText` object which is very similar.\n"
          ]
        },
        {
          "data": {
            "text/plain": [
              "(509, 0.8408644400785854, 0.8408644400785854)"
            ]
          },
          "execution_count": 166,
          "metadata": {},
          "output_type": "execute_result"
        }
      ],
      "source": [
        "# check if it is really ok!\n",
        "loaded_model = fasttext.load_model('neshan_camp_model.bin')\n",
        "loaded_model.test('test.txt')"
      ]
    },
    {
      "cell_type": "markdown",
      "metadata": {
        "id": "YHYZn1E---iz"
      },
      "source": [
        "# Predict"
      ]
    },
    {
      "cell_type": "code",
      "execution_count": 167,
      "metadata": {
        "colab": {
          "base_uri": "https://localhost:8080/",
          "height": 441
        },
        "id": "F_Uc2JNNAMH2",
        "outputId": "d13a947f-7b23-413e-fad7-7f136fc767b6"
      },
      "outputs": [
        {
          "name": "stderr",
          "output_type": "stream",
          "text": [
            "449it [00:00, 12049.05it/s]\n"
          ]
        },
        {
          "data": {
            "text/html": [
              "\n",
              "  <div id=\"df-9d0e448e-9ac3-4ffd-b3f2-3ef3f62a5ec1\">\n",
              "    <div class=\"colab-df-container\">\n",
              "      <div>\n",
              "<style scoped>\n",
              "    .dataframe tbody tr th:only-of-type {\n",
              "        vertical-align: middle;\n",
              "    }\n",
              "\n",
              "    .dataframe tbody tr th {\n",
              "        vertical-align: top;\n",
              "    }\n",
              "\n",
              "    .dataframe thead th {\n",
              "        text-align: right;\n",
              "    }\n",
              "</style>\n",
              "<table border=\"1\" class=\"dataframe\">\n",
              "  <thead>\n",
              "    <tr style=\"text-align: right;\">\n",
              "      <th></th>\n",
              "      <th>comment</th>\n",
              "    </tr>\n",
              "  </thead>\n",
              "  <tbody>\n",
              "    <tr>\n",
              "      <th>0</th>\n",
              "      <td>مکانی زیبا و دیدنی با چشم اندازی زیبا برای علا...</td>\n",
              "    </tr>\n",
              "    <tr>\n",
              "      <th>1</th>\n",
              "      <td>روز جمعه داخل نشان زده بود باز است ولی بسته بود</td>\n",
              "    </tr>\n",
              "    <tr>\n",
              "      <th>2</th>\n",
              "      <td>سلام متاسفانه با اپراتور متقلبی در این پمپ بنز...</td>\n",
              "    </tr>\n",
              "    <tr>\n",
              "      <th>3</th>\n",
              "      <td>محوطه بزرگ و فضای سبز خوبی دارد</td>\n",
              "    </tr>\n",
              "    <tr>\n",
              "      <th>4</th>\n",
              "      <td>مزه خوبی نداره شیرینی وکیک هاش</td>\n",
              "    </tr>\n",
              "    <tr>\n",
              "      <th>...</th>\n",
              "      <td>...</td>\n",
              "    </tr>\n",
              "    <tr>\n",
              "      <th>444</th>\n",
              "      <td>مکانی بسیار زیبا و دلنشین که علاوه بر کاخ موزه...</td>\n",
              "    </tr>\n",
              "    <tr>\n",
              "      <th>445</th>\n",
              "      <td>حیف  غذا یک خاطر ساز است واشپز کسی که باعشق خا...</td>\n",
              "    </tr>\n",
              "    <tr>\n",
              "      <th>446</th>\n",
              "      <td>افتضاح و گرون تر از بقیه</td>\n",
              "    </tr>\n",
              "    <tr>\n",
              "      <th>447</th>\n",
              "      <td>مسجد کرمانی یکی از مسجدهای قدیمی شهر تربت جام ...</td>\n",
              "    </tr>\n",
              "    <tr>\n",
              "      <th>448</th>\n",
              "      <td>قبلاً وسایلش بهتر بود</td>\n",
              "    </tr>\n",
              "  </tbody>\n",
              "</table>\n",
              "<p>449 rows × 1 columns</p>\n",
              "</div>\n",
              "      <button class=\"colab-df-convert\" onclick=\"convertToInteractive('df-9d0e448e-9ac3-4ffd-b3f2-3ef3f62a5ec1')\"\n",
              "              title=\"Convert this dataframe to an interactive table.\"\n",
              "              style=\"display:none;\">\n",
              "        \n",
              "  <svg xmlns=\"http://www.w3.org/2000/svg\" height=\"24px\"viewBox=\"0 0 24 24\"\n",
              "       width=\"24px\">\n",
              "    <path d=\"M0 0h24v24H0V0z\" fill=\"none\"/>\n",
              "    <path d=\"M18.56 5.44l.94 2.06.94-2.06 2.06-.94-2.06-.94-.94-2.06-.94 2.06-2.06.94zm-11 1L8.5 8.5l.94-2.06 2.06-.94-2.06-.94L8.5 2.5l-.94 2.06-2.06.94zm10 10l.94 2.06.94-2.06 2.06-.94-2.06-.94-.94-2.06-.94 2.06-2.06.94z\"/><path d=\"M17.41 7.96l-1.37-1.37c-.4-.4-.92-.59-1.43-.59-.52 0-1.04.2-1.43.59L10.3 9.45l-7.72 7.72c-.78.78-.78 2.05 0 2.83L4 21.41c.39.39.9.59 1.41.59.51 0 1.02-.2 1.41-.59l7.78-7.78 2.81-2.81c.8-.78.8-2.07 0-2.86zM5.41 20L4 18.59l7.72-7.72 1.47 1.35L5.41 20z\"/>\n",
              "  </svg>\n",
              "      </button>\n",
              "      \n",
              "  <style>\n",
              "    .colab-df-container {\n",
              "      display:flex;\n",
              "      flex-wrap:wrap;\n",
              "      gap: 12px;\n",
              "    }\n",
              "\n",
              "    .colab-df-convert {\n",
              "      background-color: #E8F0FE;\n",
              "      border: none;\n",
              "      border-radius: 50%;\n",
              "      cursor: pointer;\n",
              "      display: none;\n",
              "      fill: #1967D2;\n",
              "      height: 32px;\n",
              "      padding: 0 0 0 0;\n",
              "      width: 32px;\n",
              "    }\n",
              "\n",
              "    .colab-df-convert:hover {\n",
              "      background-color: #E2EBFA;\n",
              "      box-shadow: 0px 1px 2px rgba(60, 64, 67, 0.3), 0px 1px 3px 1px rgba(60, 64, 67, 0.15);\n",
              "      fill: #174EA6;\n",
              "    }\n",
              "\n",
              "    [theme=dark] .colab-df-convert {\n",
              "      background-color: #3B4455;\n",
              "      fill: #D2E3FC;\n",
              "    }\n",
              "\n",
              "    [theme=dark] .colab-df-convert:hover {\n",
              "      background-color: #434B5C;\n",
              "      box-shadow: 0px 1px 3px 1px rgba(0, 0, 0, 0.15);\n",
              "      filter: drop-shadow(0px 1px 2px rgba(0, 0, 0, 0.3));\n",
              "      fill: #FFFFFF;\n",
              "    }\n",
              "  </style>\n",
              "\n",
              "      <script>\n",
              "        const buttonEl =\n",
              "          document.querySelector('#df-9d0e448e-9ac3-4ffd-b3f2-3ef3f62a5ec1 button.colab-df-convert');\n",
              "        buttonEl.style.display =\n",
              "          google.colab.kernel.accessAllowed ? 'block' : 'none';\n",
              "\n",
              "        async function convertToInteractive(key) {\n",
              "          const element = document.querySelector('#df-9d0e448e-9ac3-4ffd-b3f2-3ef3f62a5ec1');\n",
              "          const dataTable =\n",
              "            await google.colab.kernel.invokeFunction('convertToInteractive',\n",
              "                                                     [key], {});\n",
              "          if (!dataTable) return;\n",
              "\n",
              "          const docLinkHtml = 'Like what you see? Visit the ' +\n",
              "            '<a target=\"_blank\" href=https://colab.research.google.com/notebooks/data_table.ipynb>data table notebook</a>'\n",
              "            + ' to learn more about interactive tables.';\n",
              "          element.innerHTML = '';\n",
              "          dataTable['output_type'] = 'display_data';\n",
              "          await google.colab.output.renderOutput(dataTable, element);\n",
              "          const docLink = document.createElement('div');\n",
              "          docLink.innerHTML = docLinkHtml;\n",
              "          element.appendChild(docLink);\n",
              "        }\n",
              "      </script>\n",
              "    </div>\n",
              "  </div>\n",
              "  "
            ],
            "text/plain": [
              "                                               comment\n",
              "0    مکانی زیبا و دیدنی با چشم اندازی زیبا برای علا...\n",
              "1      روز جمعه داخل نشان زده بود باز است ولی بسته بود\n",
              "2    سلام متاسفانه با اپراتور متقلبی در این پمپ بنز...\n",
              "3                      محوطه بزرگ و فضای سبز خوبی دارد\n",
              "4                       مزه خوبی نداره شیرینی وکیک هاش\n",
              "..                                                 ...\n",
              "444  مکانی بسیار زیبا و دلنشین که علاوه بر کاخ موزه...\n",
              "445  حیف  غذا یک خاطر ساز است واشپز کسی که باعشق خا...\n",
              "446                           افتضاح و گرون تر از بقیه\n",
              "447  مسجد کرمانی یکی از مسجدهای قدیمی شهر تربت جام ...\n",
              "448                              قبلاً وسایلش بهتر بود\n",
              "\n",
              "[449 rows x 1 columns]"
            ]
          },
          "execution_count": 167,
          "metadata": {},
          "output_type": "execute_result"
        }
      ],
      "source": [
        "# load the provided test.txt\n",
        "test_dataset = pd.read_csv('test.csv')\n",
        "test_dataset = pre_process(test_dataset)\n",
        "test_dataset"
      ]
    },
    {
      "cell_type": "code",
      "execution_count": 168,
      "metadata": {
        "id": "9qR-piYI5laB"
      },
      "outputs": [],
      "source": [
        "def single_predict(comment:str, model):\n",
        "    \"\"\"\n",
        "    this function is just for single sample prediction.\n",
        "    comment: a string\n",
        "    model: trained model\n",
        "    \"\"\"\n",
        "\n",
        "    result = model.predict(comment)\n",
        "    label = result[0][0].replace('__label__', '')\n",
        "    prob = result[1][0]\n",
        "\n",
        "    return label, prob"
      ]
    },
    {
      "cell_type": "code",
      "execution_count": 182,
      "metadata": {
        "id": "8mjNzKeCBvfo"
      },
      "outputs": [],
      "source": [
        "def bunch_predict(comments, model):\n",
        "    \"\"\"\n",
        "    this function is able to get a bunch of samples (an array).\n",
        "    comment: an array of string items\n",
        "    model: trained model\n",
        "    \"\"\"\n",
        "\n",
        "    labels = []\n",
        "    probs = []\n",
        "\n",
        "    for comment in comments:\n",
        "        result = model.predict(comment)\n",
        "        labels.append(result[0][0].replace('__label__', ''))\n",
        "        probs.append(result[1][0])\n",
        "\n",
        "    return labels, probs"
      ]
    },
    {
      "cell_type": "markdown",
      "metadata": {
        "id": "1erC9lMoBpJ9"
      },
      "source": [
        "# Example of prediction"
      ]
    },
    {
      "cell_type": "code",
      "execution_count": 170,
      "metadata": {
        "colab": {
          "base_uri": "https://localhost:8080/"
        },
        "id": "KOvAs-tuAKXu",
        "outputId": "908f4891-bf5b-4ce3-fac2-dad1afc1582a"
      },
      "outputs": [
        {
          "data": {
            "text/plain": [
              "('Negative', 0.9990700483322144)"
            ]
          },
          "execution_count": 170,
          "metadata": {},
          "output_type": "execute_result"
        }
      ],
      "source": [
        "single_predict(test_dataset['comment'][1], model)"
      ]
    },
    {
      "cell_type": "code",
      "execution_count": 192,
      "metadata": {
        "id": "qNxAo14X5nvF"
      },
      "outputs": [],
      "source": [
        "comments = test_dataset['comment'].to_list()\n",
        "labels, probs = bunch_predict(comments, model)"
      ]
    },
    {
      "cell_type": "markdown",
      "metadata": {
        "id": "0r3hze5_Hrqk"
      },
      "source": [
        "# Prepare new test.csv"
      ]
    },
    {
      "cell_type": "code",
      "execution_count": 193,
      "metadata": {
        "id": "9ZXthNJ6HuQ8"
      },
      "outputs": [],
      "source": [
        "new_test = {\"comment\": [], \"sentiment\": []}\n",
        "for label,  comment in zip(labels, comments):\n",
        "    new_test['comment'].append(comment)\n",
        "    new_test['sentiment'].append(label)"
      ]
    },
    {
      "cell_type": "code",
      "execution_count": 196,
      "metadata": {
        "colab": {
          "base_uri": "https://localhost:8080/",
          "height": 720
        },
        "id": "fNXX_TkTIXS3",
        "outputId": "aca579ff-4da0-4d29-f29a-49a1d6c1a926"
      },
      "outputs": [
        {
          "data": {
            "text/html": [
              "\n",
              "  <div id=\"df-66215e3f-8b12-44c8-ad8f-55d902938554\">\n",
              "    <div class=\"colab-df-container\">\n",
              "      <div>\n",
              "<style scoped>\n",
              "    .dataframe tbody tr th:only-of-type {\n",
              "        vertical-align: middle;\n",
              "    }\n",
              "\n",
              "    .dataframe tbody tr th {\n",
              "        vertical-align: top;\n",
              "    }\n",
              "\n",
              "    .dataframe thead th {\n",
              "        text-align: right;\n",
              "    }\n",
              "</style>\n",
              "<table border=\"1\" class=\"dataframe\">\n",
              "  <thead>\n",
              "    <tr style=\"text-align: right;\">\n",
              "      <th></th>\n",
              "      <th>comment</th>\n",
              "      <th>sentiment</th>\n",
              "    </tr>\n",
              "  </thead>\n",
              "  <tbody>\n",
              "    <tr>\n",
              "      <th>0</th>\n",
              "      <td>مکانی زیبا و دیدنی با چشم اندازی زیبا برای علا...</td>\n",
              "      <td>Positive</td>\n",
              "    </tr>\n",
              "    <tr>\n",
              "      <th>1</th>\n",
              "      <td>روز جمعه داخل نشان زده بود باز است ولی بسته بود</td>\n",
              "      <td>Negative</td>\n",
              "    </tr>\n",
              "    <tr>\n",
              "      <th>2</th>\n",
              "      <td>سلام متاسفانه با اپراتور متقلبی در این پمپ بنز...</td>\n",
              "      <td>Negative</td>\n",
              "    </tr>\n",
              "    <tr>\n",
              "      <th>3</th>\n",
              "      <td>محوطه بزرگ و فضای سبز خوبی دارد</td>\n",
              "      <td>Positive</td>\n",
              "    </tr>\n",
              "    <tr>\n",
              "      <th>4</th>\n",
              "      <td>مزه خوبی نداره شیرینی وکیک هاش</td>\n",
              "      <td>Negative</td>\n",
              "    </tr>\n",
              "    <tr>\n",
              "      <th>...</th>\n",
              "      <td>...</td>\n",
              "      <td>...</td>\n",
              "    </tr>\n",
              "    <tr>\n",
              "      <th>444</th>\n",
              "      <td>مکانی بسیار زیبا و دلنشین که علاوه بر کاخ موزه...</td>\n",
              "      <td>Positive</td>\n",
              "    </tr>\n",
              "    <tr>\n",
              "      <th>445</th>\n",
              "      <td>حیف  غذا یک خاطر ساز است واشپز کسی که باعشق خا...</td>\n",
              "      <td>Negative</td>\n",
              "    </tr>\n",
              "    <tr>\n",
              "      <th>446</th>\n",
              "      <td>افتضاح و گرون تر از بقیه</td>\n",
              "      <td>Negative</td>\n",
              "    </tr>\n",
              "    <tr>\n",
              "      <th>447</th>\n",
              "      <td>مسجد کرمانی یکی از مسجدهای قدیمی شهر تربت جام ...</td>\n",
              "      <td>Neutral</td>\n",
              "    </tr>\n",
              "    <tr>\n",
              "      <th>448</th>\n",
              "      <td>قبلاً وسایلش بهتر بود</td>\n",
              "      <td>Negative</td>\n",
              "    </tr>\n",
              "  </tbody>\n",
              "</table>\n",
              "<p>449 rows × 2 columns</p>\n",
              "</div>\n",
              "      <button class=\"colab-df-convert\" onclick=\"convertToInteractive('df-66215e3f-8b12-44c8-ad8f-55d902938554')\"\n",
              "              title=\"Convert this dataframe to an interactive table.\"\n",
              "              style=\"display:none;\">\n",
              "        \n",
              "  <svg xmlns=\"http://www.w3.org/2000/svg\" height=\"24px\"viewBox=\"0 0 24 24\"\n",
              "       width=\"24px\">\n",
              "    <path d=\"M0 0h24v24H0V0z\" fill=\"none\"/>\n",
              "    <path d=\"M18.56 5.44l.94 2.06.94-2.06 2.06-.94-2.06-.94-.94-2.06-.94 2.06-2.06.94zm-11 1L8.5 8.5l.94-2.06 2.06-.94-2.06-.94L8.5 2.5l-.94 2.06-2.06.94zm10 10l.94 2.06.94-2.06 2.06-.94-2.06-.94-.94-2.06-.94 2.06-2.06.94z\"/><path d=\"M17.41 7.96l-1.37-1.37c-.4-.4-.92-.59-1.43-.59-.52 0-1.04.2-1.43.59L10.3 9.45l-7.72 7.72c-.78.78-.78 2.05 0 2.83L4 21.41c.39.39.9.59 1.41.59.51 0 1.02-.2 1.41-.59l7.78-7.78 2.81-2.81c.8-.78.8-2.07 0-2.86zM5.41 20L4 18.59l7.72-7.72 1.47 1.35L5.41 20z\"/>\n",
              "  </svg>\n",
              "      </button>\n",
              "      \n",
              "  <style>\n",
              "    .colab-df-container {\n",
              "      display:flex;\n",
              "      flex-wrap:wrap;\n",
              "      gap: 12px;\n",
              "    }\n",
              "\n",
              "    .colab-df-convert {\n",
              "      background-color: #E8F0FE;\n",
              "      border: none;\n",
              "      border-radius: 50%;\n",
              "      cursor: pointer;\n",
              "      display: none;\n",
              "      fill: #1967D2;\n",
              "      height: 32px;\n",
              "      padding: 0 0 0 0;\n",
              "      width: 32px;\n",
              "    }\n",
              "\n",
              "    .colab-df-convert:hover {\n",
              "      background-color: #E2EBFA;\n",
              "      box-shadow: 0px 1px 2px rgba(60, 64, 67, 0.3), 0px 1px 3px 1px rgba(60, 64, 67, 0.15);\n",
              "      fill: #174EA6;\n",
              "    }\n",
              "\n",
              "    [theme=dark] .colab-df-convert {\n",
              "      background-color: #3B4455;\n",
              "      fill: #D2E3FC;\n",
              "    }\n",
              "\n",
              "    [theme=dark] .colab-df-convert:hover {\n",
              "      background-color: #434B5C;\n",
              "      box-shadow: 0px 1px 3px 1px rgba(0, 0, 0, 0.15);\n",
              "      filter: drop-shadow(0px 1px 2px rgba(0, 0, 0, 0.3));\n",
              "      fill: #FFFFFF;\n",
              "    }\n",
              "  </style>\n",
              "\n",
              "      <script>\n",
              "        const buttonEl =\n",
              "          document.querySelector('#df-66215e3f-8b12-44c8-ad8f-55d902938554 button.colab-df-convert');\n",
              "        buttonEl.style.display =\n",
              "          google.colab.kernel.accessAllowed ? 'block' : 'none';\n",
              "\n",
              "        async function convertToInteractive(key) {\n",
              "          const element = document.querySelector('#df-66215e3f-8b12-44c8-ad8f-55d902938554');\n",
              "          const dataTable =\n",
              "            await google.colab.kernel.invokeFunction('convertToInteractive',\n",
              "                                                     [key], {});\n",
              "          if (!dataTable) return;\n",
              "\n",
              "          const docLinkHtml = 'Like what you see? Visit the ' +\n",
              "            '<a target=\"_blank\" href=https://colab.research.google.com/notebooks/data_table.ipynb>data table notebook</a>'\n",
              "            + ' to learn more about interactive tables.';\n",
              "          element.innerHTML = '';\n",
              "          dataTable['output_type'] = 'display_data';\n",
              "          await google.colab.output.renderOutput(dataTable, element);\n",
              "          const docLink = document.createElement('div');\n",
              "          docLink.innerHTML = docLinkHtml;\n",
              "          element.appendChild(docLink);\n",
              "        }\n",
              "      </script>\n",
              "    </div>\n",
              "  </div>\n",
              "  "
            ],
            "text/plain": [
              "                                               comment sentiment\n",
              "0    مکانی زیبا و دیدنی با چشم اندازی زیبا برای علا...  Positive\n",
              "1      روز جمعه داخل نشان زده بود باز است ولی بسته بود  Negative\n",
              "2    سلام متاسفانه با اپراتور متقلبی در این پمپ بنز...  Negative\n",
              "3                      محوطه بزرگ و فضای سبز خوبی دارد  Positive\n",
              "4                       مزه خوبی نداره شیرینی وکیک هاش  Negative\n",
              "..                                                 ...       ...\n",
              "444  مکانی بسیار زیبا و دلنشین که علاوه بر کاخ موزه...  Positive\n",
              "445  حیف  غذا یک خاطر ساز است واشپز کسی که باعشق خا...  Negative\n",
              "446                           افتضاح و گرون تر از بقیه  Negative\n",
              "447  مسجد کرمانی یکی از مسجدهای قدیمی شهر تربت جام ...   Neutral\n",
              "448                              قبلاً وسایلش بهتر بود  Negative\n",
              "\n",
              "[449 rows x 2 columns]"
            ]
          },
          "execution_count": 196,
          "metadata": {},
          "output_type": "execute_result"
        }
      ],
      "source": [
        "new_test = pd.DataFrame(new_test)\n",
        "new_test"
      ]
    },
    {
      "cell_type": "code",
      "execution_count": 197,
      "metadata": {
        "id": "_rnbK-0MJywC"
      },
      "outputs": [],
      "source": [
        "!mkdir new_test\n",
        "new_test.to_csv('new_test/test.csv')"
      ]
    },
    {
      "cell_type": "code",
      "execution_count": null,
      "metadata": {
        "id": "s561TvjEKNwL"
      },
      "outputs": [],
      "source": []
    }
  ],
  "metadata": {
    "colab": {
      "gpuType": "T4",
      "provenance": []
    },
    "kernelspec": {
      "display_name": "Python 3",
      "name": "python3"
    },
    "language_info": {
      "name": "python"
    }
  },
  "nbformat": 4,
  "nbformat_minor": 0
}
